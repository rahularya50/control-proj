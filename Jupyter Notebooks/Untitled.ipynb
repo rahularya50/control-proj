{
 "cells": [
  {
   "cell_type": "code",
   "execution_count": 1,
   "metadata": {},
   "outputs": [],
   "source": [
    "import numpy as np\n",
    "from linalg_helper import *"
   ]
  },
  {
   "cell_type": "code",
   "execution_count": 71,
   "metadata": {},
   "outputs": [],
   "source": [
    "def make_Ds(N, dim):\n",
    "    Ds = []\n",
    "    for _ in range(N):\n",
    "        d = make_random_direction(dim).reshape([-1, 1])\n",
    "        D = d @ d.T\n",
    "        Ds.append(D)\n",
    "    return Ds"
   ]
  },
  {
   "cell_type": "code",
   "execution_count": 72,
   "metadata": {},
   "outputs": [
    {
     "name": "stdout",
     "output_type": "stream",
     "text": [
      "expected: 17.44940226888645\n",
      "actual: 16.989557296804193\n"
     ]
    }
   ],
   "source": [
    "def trial(N, dim):\n",
    "    Ds = make_Ds(N, dim)\n",
    "    prod = np.eye(dim)\n",
    "    for D in Ds:\n",
    "        prod = prod @ (np.eye(dim) + D)\n",
    "    for D in reversed(Ds):\n",
    "        prod = prod @ (np.eye(dim) + D)\n",
    "    return prod\n",
    "\n",
    "\n",
    "def trials(N, dim, k):\n",
    "    out = []\n",
    "    for _ in range(k):\n",
    "        out.append(trial(N, dim))\n",
    "    out = np.array(out)\n",
    "    expected = (1 + 3 / dim) ** N\n",
    "    mean = np.mean(out, axis=0)\n",
    "    print(\"expected:\", expected)\n",
    "    print(\"actual:\", mean[0][0])\n",
    "\n",
    "\n",
    "trials(30, 30, 1000)"
   ]
  },
  {
   "cell_type": "code",
   "execution_count": 157,
   "metadata": {},
   "outputs": [
    {
     "name": "stdout",
     "output_type": "stream",
     "text": [
      "expected: 2.2363156126981737e-05\n",
      "actual: 2.3832422241993955e-05\n"
     ]
    }
   ],
   "source": [
    "def trial(N, dim, K):\n",
    "    Ds = make_Ds(N, dim)\n",
    "    return Ds[1] @ K @ Ds[2] @ Ds[3]\n",
    "\n",
    "def trials(N, dim, k):\n",
    "    out = []\n",
    "    K = make_random_diagonal_matrix(dim, 1, 0.8)\n",
    "    for _ in range(k):\n",
    "        out.append(trial(N, dim, K))\n",
    "    out = np.array(out)\n",
    "    mean = np.mean(out, axis=0)\n",
    "    print(\"expected:\", 1 / dim**3 * K[0][0])\n",
    "    print(\"actual:\", mean[0][0])\n",
    "    \n",
    "trials(10, 30, 10000)"
   ]
  },
  {
   "cell_type": "code",
   "execution_count": null,
   "metadata": {},
   "outputs": [],
   "source": []
  },
  {
   "cell_type": "code",
   "execution_count": null,
   "metadata": {},
   "outputs": [],
   "source": []
  }
 ],
 "metadata": {
  "kernelspec": {
   "display_name": "Python 3",
   "language": "python",
   "name": "python3"
  },
  "language_info": {
   "codemirror_mode": {
    "name": "ipython",
    "version": 3
   },
   "file_extension": ".py",
   "mimetype": "text/x-python",
   "name": "python",
   "nbconvert_exporter": "python",
   "pygments_lexer": "ipython3",
   "version": "3.6.5"
  }
 },
 "nbformat": 4,
 "nbformat_minor": 2
}
