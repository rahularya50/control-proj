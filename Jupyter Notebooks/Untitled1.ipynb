{
 "cells": [
  {
   "cell_type": "code",
   "execution_count": 1,
   "metadata": {},
   "outputs": [],
   "source": [
    "import numpy as np\n",
    "from linalg_helper import *\n",
    "\n",
    "np.set_printoptions(2, suppress=True)"
   ]
  },
  {
   "cell_type": "code",
   "execution_count": 24,
   "metadata": {},
   "outputs": [],
   "source": [
    "N = 5\n",
    "d = 3\n",
    "Q = make_symmetric_matrix(N, 5, 1)\n",
    "R2 = make_symmetric_matrix(d, 5, 1)\n",
    "\n",
    "# Q = np.eye(N)\n",
    "# R2 = np.eye(d)"
   ]
  },
  {
   "cell_type": "code",
   "execution_count": 27,
   "metadata": {},
   "outputs": [
    {
     "data": {
      "text/plain": [
       "array([[-0.48,  0.2 , -0.39,  0.06,  0.  ],\n",
       "       [ 0.2 , -0.03,  0.06, -0.  , -0.11],\n",
       "       [-0.39,  0.06, -0.28,  0.21,  0.05],\n",
       "       [ 0.06, -0.  ,  0.21,  0.22, -0.25],\n",
       "       [ 0.  , -0.11,  0.05, -0.25, -0.06]])"
      ]
     },
     "execution_count": 27,
     "metadata": {},
     "output_type": "execute_result"
    }
   ],
   "source": [
    "trials = 10000\n",
    "avg = None\n",
    "for i in range(trials):\n",
    "    B2 = make_random_subspace(N, d)\n",
    "    ret = B2 @ np.linalg.inv(R2 + B2.T @ Q @ B2) @ B2.T\n",
    "    if avg is None:\n",
    "        avg = ret\n",
    "    else:\n",
    "        avg += ret\n",
    "    \n",
    "avg /= trials\n",
    "avg"
   ]
  },
  {
   "cell_type": "code",
   "execution_count": null,
   "metadata": {},
   "outputs": [],
   "source": []
  },
  {
   "cell_type": "code",
   "execution_count": null,
   "metadata": {},
   "outputs": [],
   "source": []
  }
 ],
 "metadata": {
  "kernelspec": {
   "display_name": "Python 3",
   "language": "python",
   "name": "python3"
  },
  "language_info": {
   "codemirror_mode": {
    "name": "ipython",
    "version": 3
   },
   "file_extension": ".py",
   "mimetype": "text/x-python",
   "name": "python",
   "nbconvert_exporter": "python",
   "pygments_lexer": "ipython3",
   "version": "3.6.5"
  }
 },
 "nbformat": 4,
 "nbformat_minor": 2
}
