{
 "cells": [
  {
   "cell_type": "code",
   "execution_count": 17,
   "metadata": {},
   "outputs": [],
   "source": [
    "import numpy as np\n",
    "from functools import reduce\n",
    "import matplotlib.pyplot as plt\n",
    "\n",
    "# Find the distributions as a function of t (abstract over number of time steps)\n",
    "# I also want to see state paths that are generated (2d graph against time)\n",
    "# Find distributions abstracted over values of a\n",
    "# Find distributions abstracted over initial state?\n",
    "# Find distributions abstracted over spread of noise, and maybe mean?\n",
    "\n",
    "D = 0\n",
    "x0 = 50\n",
    "history = [x0]\n",
    "a = 8\n",
    "a_hat = 0\n",
    "T = 100\n",
    "sigma = 1\n",
    "a_hat_history = [a_hat]\n",
    "\n",
    "def num_calc(arr):\n",
    "    sum = 0\n",
    "    for i in range(len(arr)-1):\n",
    "        sum = sum + arr[i] * arr[i+1]\n",
    "    return sum\n",
    "\n",
    "def a_hat_update():\n",
    "    denom = reduce(lambda x, y: x + y**2, history, 0) - history[-1]**2\n",
    "    #print('denom', denom)\n",
    "    num = num_calc(history)\n",
    "    #print('num', num)\n",
    "    return num/denom\n",
    "\n",
    "for i in range(T):\n",
    "    x_new = (a-a_hat) * history[-1] + np.random.normal(scale=sigma) + D\n",
    "    history.append(x_new)\n",
    "    a_hat = a_hat_update()\n",
    "    a_hat_history.append(a_hat)"
   ]
  },
  {
   "cell_type": "markdown",
   "metadata": {},
   "source": [
    "The estimated value appears to converge to half the actual value. That's weird! Why?"
   ]
  },
  {
   "cell_type": "code",
   "execution_count": 18,
   "metadata": {},
   "outputs": [
    {
     "data": {
      "image/png": "[encoded data removed]",
      "text/plain": [
       "<Figure size 432x288 with 1 Axes>"
      ]
     },
     "metadata": {
      "needs_background": "light"
     },
     "output_type": "display_data"
    },
    {
     "data": {
      "image/png": "[encoded data removed]",
      "text/plain": [
       "<Figure size 432x288 with 1 Axes>"
      ]
     },
     "metadata": {
      "needs_background": "light"
     },
     "output_type": "display_data"
    }
   ],
   "source": [
    "plt.stem(np.abs(history))\n",
    "plt.yscale('log')\n",
    "\n",
    "plt.figure()\n",
    "plt.stem(np.abs(a_hat_history))\n",
    "plt.yscale('log')"
   ]
  },
  {
   "cell_type": "code",
   "execution_count": null,
   "metadata": {},
   "outputs": [],
   "source": []
  }
 ],
 "metadata": {
  "kernelspec": {
   "display_name": "Python 3",
   "language": "python",
   "name": "python3"
  },
  "language_info": {
   "codemirror_mode": {
    "name": "ipython",
    "version": 3
   },
   "file_extension": ".py",
   "mimetype": "text/x-python",
   "name": "python",
   "nbconvert_exporter": "python",
   "pygments_lexer": "ipython3",
   "version": "3.7.4"
  }
 },
 "nbformat": 4,
 "nbformat_minor": 2
}
