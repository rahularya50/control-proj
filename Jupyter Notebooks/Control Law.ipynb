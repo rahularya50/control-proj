{
 "cells": [
  {
   "cell_type": "code",
   "execution_count": 1,
   "metadata": {},
   "outputs": [],
   "source": [
    "%matplotlib inline\n",
    "import math\n",
    "\n",
    "import numpy as np\n",
    "import matplotlib.pyplot as plt\n",
    "\n",
    "from linalg_helper import *\n",
    "from plot_helper import *"
   ]
  },
  {
   "cell_type": "code",
   "execution_count": 198,
   "metadata": {},
   "outputs": [],
   "source": [
    "dim = 10\n",
    "N = 10000\n",
    "trials = 1\n",
    "is_aligned_with_max_eigvec = True;"
   ]
  },
  {
   "cell_type": "code",
   "execution_count": 199,
   "metadata": {},
   "outputs": [
    {
     "name": "stdout",
     "output_type": "stream",
     "text": [
      "10 largest eigenvalues of matrix\n",
      "1.1\n",
      "0.9900000000000001\n",
      "0.8910000000000001\n",
      "0.8019000000000002\n",
      "0.7217100000000001\n",
      "0.6495390000000001\n",
      "0.5845851000000001\n",
      "0.5261265900000002\n",
      "0.47351393100000017\n",
      "0.42616253790000014\n"
     ]
    }
   ],
   "source": [
    "def make_mult_diag(big, scale, dim):\n",
    "    return np.diag([big *(scale)**i for i in range(dim)])\n",
    "\n",
    "#A = make_random_diagonal_matrix(dim, 1.1, 0.9, 1)\n",
    "A = make_mult_diag(1.1, 0.9, dim)\n",
    "Q = make_random_subspace(dim, dim)\n",
    "A_bar = Q @ A @ Q.T\n",
    "\n",
    "x_init = make_random_direction(dim)\n",
    "\n",
    "# Find largest eigenvalue and corresponding eigenvector\n",
    "max_eig_index = max(zip(range(dim), np.diagonal(A)), key=lambda x: x[1])[0]\n",
    "max_eigvec = np.array(Q[:,max_eig_index])\n",
    "max_eig = np.diag(A)[max_eig_index]\n",
    "\n",
    "max_eig_mat = max_eig * np.outer(max_eigvec, max_eigvec)\n",
    "\n",
    "K = -max_eig * np.eye(dim)#- np.mean(np.diag(A))*np.eye(dim)\n",
    "\n",
    "if is_aligned_with_max_eigvec:\n",
    "    x_init = np.array(max_eigvec)\n",
    "\n",
    "from heapq import nlargest\n",
    "\n",
    "how_many_big = 10\n",
    "\n",
    "print('{0} largest eigenvalues of matrix'.format(how_many_big))\n",
    "for e in nlargest(how_many_big, np.diagonal(A)):\n",
    "    print(e)\n",
    "    \n",
    "# Simulate and plot the state evolution without input for a short time and a long time\n",
    "x_free = simulate_free_response(A_bar, N, x_init)\n",
    "def obs_trial_law(obs_vecs, trial):\n",
    "    def law(i, state_row):\n",
    "        d_t = obs_vecs[N*trial + i, :]\n",
    "        k = 0.0\n",
    "        beta = d_t.dot(max_eigvec)\n",
    "        # change this condition so that it tanks it every time it notices a multiplier that will make it drop?\n",
    "        # something like a running history of sorts\n",
    "        # The threshold seems to control the periodicity of the tanking (sloping down). If only I could do that to the main state!\n",
    "        if (beta ** 2) < ( 1 - 1/max_eig):\n",
    "            k = 1.0\n",
    "        # maybe generate that U subspace here and subtract it?\n",
    "        #a1 = np.dot(max_eigvec.T,d_t)\n",
    "        #a_other = sum(Q[:,1:].T @ d_t)\n",
    "        #return (-(max_eig) * np.outer(max_eigvec, d_t)/a1).dot(state_row) *k\n",
    "        return (- np.outer(d_t,d_t)).dot(state_row)\n",
    "    return law\n",
    "\n",
    "def simulate_controlled_response_genie(A, N, x_init, law):\n",
    "    dim = A.shape[0]\n",
    "    x = np.zeros([N, dim])\n",
    "    x[0, :] = x_init\n",
    "    for i in range(N-1):\n",
    "        Q = make_random_subspace(dim, dim)\n",
    "        A_b = Q@A@Q.T\n",
    "        x[i+1, :] = A_b.dot(x[i,:])+law(i, x[i,:])\n",
    "    return x"
   ]
  },
  {
   "cell_type": "code",
   "execution_count": 200,
   "metadata": {},
   "outputs": [
    {
     "data": {
      "image/png": "[encoded data removed]",
      "text/plain": [
       "<Figure size 432x288 with 1 Axes>"
      ]
     },
     "metadata": {
      "needs_background": "light"
     },
     "output_type": "display_data"
    }
   ],
   "source": [
    "obs_vecs = np.array([make_random_direction(dim) for i in range (N*trials)])\n",
    "obs = np.array([np.einsum('ij,ij->i', obs_vecs[N*i:N*(i+1), :], x_free) for i in range (trials)])\n",
    "plt.plot(abs(obs.T))\n",
    "plt.yscale('log'); \n",
    "\n",
    "x_cont = np.array([simulate_controlled_response(A, N, x_init, obs_trial_law(obs_vecs, i)) for i in range(trials)])"
   ]
  },
  {
   "cell_type": "code",
   "execution_count": 201,
   "metadata": {},
   "outputs": [
    {
     "data": {
      "image/png": "[encoded data removed]",
      "text/plain": [
       "<Figure size 432x288 with 1 Axes>"
      ]
     },
     "metadata": {
      "needs_background": "light"
     },
     "output_type": "display_data"
    }
   ],
   "source": [
    "for i in range(trials):\n",
    "    plt.plot(abs(x_cont[i,:,:]))\n",
    "    plt.yscale('log');"
   ]
  },
  {
   "cell_type": "markdown",
   "metadata": {},
   "source": [
    "Observation: It doesn't seem that great. Control law performance seems to have dependence on max lambda, which is stronger a relation than the dependence on initial condition, as well as dimension."
   ]
  },
  {
   "cell_type": "code",
   "execution_count": null,
   "metadata": {},
   "outputs": [],
   "source": [
    "def obs_trial_law2(trial):\n",
    "    def law(i, state_row):\n",
    "        y_t = obs[trial,i]\n",
    "        u = -max_eig * y_t * dim * max_eigvec\n",
    "        return u\n",
    "    return law\n",
    "\n",
    "x_cont2 = np.array([simulate_controlled_response(A_bar, N, x_init, obs_trial_law2(i)) for i in range(trials)])"
   ]
  },
  {
   "cell_type": "code",
   "execution_count": null,
   "metadata": {},
   "outputs": [],
   "source": [
    "for i in range(trials):\n",
    "    plt.plot(abs(x_cont2[i,:,:]))\n",
    "    plt.yscale('log');"
   ]
  },
  {
   "cell_type": "code",
   "execution_count": null,
   "metadata": {},
   "outputs": [],
   "source": []
  }
 ],
 "metadata": {
  "kernelspec": {
   "display_name": "Python 3",
   "language": "python",
   "name": "python3"
  },
  "language_info": {
   "codemirror_mode": {
    "name": "ipython",
    "version": 3
   },
   "file_extension": ".py",
   "mimetype": "text/x-python",
   "name": "python",
   "nbconvert_exporter": "python",
   "pygments_lexer": "ipython3",
   "version": "3.7.3"
  }
 },
 "nbformat": 4,
 "nbformat_minor": 2
}
