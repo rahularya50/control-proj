{
 "cells": [
  {
   "cell_type": "code",
   "execution_count": 95,
   "metadata": {},
   "outputs": [
    {
     "name": "stdout",
     "output_type": "stream",
     "text": [
      "Threshold: 1.0256410256410255\n"
     ]
    },
    {
     "data": {
      "image/png": "[encoded data removed]",
      "text/plain": [
       "<Figure size 432x288 with 1 Axes>"
      ]
     },
     "metadata": {},
     "output_type": "display_data"
    }
   ],
   "source": [
    "from linalg_helper import *\n",
    "import numpy as np\n",
    "import matplotlib.pyplot as plt\n",
    "\n",
    "N = 40\n",
    "M = 5\n",
    "max_lambda = 1\n",
    "k = 200\n",
    "\n",
    "trials = 3000\n",
    "\n",
    "stable_data = []\n",
    "unstable_data = []\n",
    "\n",
    "threshold = N / (N - 1)\n",
    "\n",
    "for trial in range(trials):\n",
    "    A = make_symmetric_matrix(N, max_lambda, 1)\n",
    "    sum_lambda_squared = sum(x**2 for x in np.linalg.eigvals(A))\n",
    "    x = x0 = make_random_direction(N)\n",
    "\n",
    "    for i in range(k):\n",
    "        D = make_random_subspace(N, 5)\n",
    "        y = D.T @ x\n",
    "        u_opt = -A @ D @ y\n",
    "        x = (A @ x) + u_opt\n",
    "        x = np.linalg.norm(x) * make_random_direction(N)  # spin x\n",
    "    #     print(np.linalg.norm(x))\n",
    "\n",
    "    pt = [sum_lambda_squared / N, np.linalg.norm(x)]\n",
    "    \n",
    "    if np.linalg.norm(x) < np.linalg.norm(x0):\n",
    "        stable_data.append(pt)\n",
    "    else:\n",
    "        unstable_data.append(pt)\n",
    "\n",
    "fig = plt.figure()\n",
    "ax = plt.gca()\n",
    "ax.set_yscale('log')\n",
    "ax.scatter(*zip(*stable_data))\n",
    "ax.scatter(*zip(*unstable_data))\n",
    "ax.axvline(x=threshold)\n",
    "\n",
    "print(\"Threshold:\", threshold)"
   ]
  },
  {
   "cell_type": "code",
   "execution_count": null,
   "metadata": {},
   "outputs": [],
   "source": []
  },
  {
   "cell_type": "code",
   "execution_count": null,
   "metadata": {},
   "outputs": [],
   "source": []
  }
 ],
 "metadata": {
  "kernelspec": {
   "display_name": "Python 3",
   "language": "python",
   "name": "python3"
  },
  "language_info": {
   "codemirror_mode": {
    "name": "ipython",
    "version": 3
   },
   "file_extension": ".py",
   "mimetype": "text/x-python",
   "name": "python",
   "nbconvert_exporter": "python",
   "pygments_lexer": "ipython3",
   "version": "3.6.5"
  }
 },
 "nbformat": 4,
 "nbformat_minor": 2
}
