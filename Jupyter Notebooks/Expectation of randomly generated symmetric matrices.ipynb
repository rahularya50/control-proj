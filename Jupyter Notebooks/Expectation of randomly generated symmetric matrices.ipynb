{
 "cells": [
  {
   "cell_type": "code",
   "execution_count": 28,
   "metadata": {},
   "outputs": [],
   "source": [
    "from linalg_helper import *\n",
    "import numpy as np\n",
    "import matplotlib.pyplot as plt"
   ]
  },
  {
   "cell_type": "code",
   "execution_count": 37,
   "metadata": {},
   "outputs": [],
   "source": [
    "def trial(dim):\n",
    "    A = make_random_diagonal_matrix(dim, 2, 0.0, 1)\n",
    "    Q = make_random_subspace(dim, dim)\n",
    "    A_bar = Q @ A @ Q.T\n",
    "    return A_bar\n",
    "\n",
    "def trials(dim, reps):\n",
    "    As = []\n",
    "    for _ in range(reps):\n",
    "        Ab = trial(dim)\n",
    "        Ab = Ab @ Ab\n",
    "        As.append(Ab)\n",
    "    return np.mean(As, axis=0)"
   ]
  },
  {
   "cell_type": "code",
   "execution_count": 38,
   "metadata": {},
   "outputs": [
    {
     "name": "stdout",
     "output_type": "stream",
     "text": [
      "[[ 7.97599705e-01  1.96188770e-03  1.36212854e-03  4.02640737e-03\n",
      "   2.29955842e-03]\n",
      " [ 1.96188770e-03  8.02882024e-01 -4.91990719e-03 -2.89949808e-05\n",
      "   6.94225622e-03]\n",
      " [ 1.36212854e-03 -4.91990719e-03  7.82515482e-01 -4.70756280e-03\n",
      "   6.04534475e-03]\n",
      " [ 4.02640737e-03 -2.89949808e-05 -4.70756280e-03  8.06313576e-01\n",
      "   8.27618300e-03]\n",
      " [ 2.29955842e-03  6.94225622e-03  6.04534475e-03  8.27618300e-03\n",
      "   8.10689213e-01]]\n"
     ]
    },
    {
     "data": {
      "text/plain": [
       "<matplotlib.image.AxesImage at 0x11450ee48>"
      ]
     },
     "execution_count": 38,
     "metadata": {},
     "output_type": "execute_result"
    },
    {
     "data": {
      "image/png": "[encoded data removed]",
      "text/plain": [
       "<Figure size 432x288 with 1 Axes>"
      ]
     },
     "metadata": {
      "needs_background": "light"
     },
     "output_type": "display_data"
    }
   ],
   "source": [
    "data = trials(5, 10000)\n",
    "print(data)\n",
    "plt.imshow(data, extent=[0, 1, 0, 1])"
   ]
  },
  {
   "cell_type": "code",
   "execution_count": null,
   "metadata": {},
   "outputs": [],
   "source": []
  }
 ],
 "metadata": {
  "kernelspec": {
   "display_name": "Python 3",
   "language": "python",
   "name": "python3"
  },
  "language_info": {
   "codemirror_mode": {
    "name": "ipython",
    "version": 3
   },
   "file_extension": ".py",
   "mimetype": "text/x-python",
   "name": "python",
   "nbconvert_exporter": "python",
   "pygments_lexer": "ipython3",
   "version": "3.7.3"
  }
 },
 "nbformat": 4,
 "nbformat_minor": 2
}
