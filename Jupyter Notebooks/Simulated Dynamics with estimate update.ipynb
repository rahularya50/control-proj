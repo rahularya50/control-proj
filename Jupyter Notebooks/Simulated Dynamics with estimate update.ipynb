{
 "cells": [
  {
   "cell_type": "code",
   "execution_count": 57,
   "metadata": {},
   "outputs": [],
   "source": [
    "# Find the distributions as a function of t (abstract over number of time steps)\n",
    "# I also want to see state paths that are generated (2d graph against time)\n",
    "# Find distributions abstracted over values of a\n",
    "# Find distributions abstracted over initial state?\n",
    "# Find distributions abstracted over spread of noise, and maybe mean?\n",
    "\n",
    "import numpy as np\n",
    "from functools import reduce\n",
    "import matplotlib.pyplot as plt\n",
    "\n",
    "x0 = 100\n",
    "a_hat0 = 0\n",
    "y0 = 0\n",
    "sigma = 500\n",
    "u = -1000\n",
    "\n",
    "w_trace = []\n",
    "x_trace = [x0]\n",
    "a_hat_trace = [a_hat0]\n",
    "y_trace = [y0]\n",
    "\n",
    "a = -20\n",
    "T = 100\n",
    "\n",
    "def update_state():\n",
    "    x_t = x_trace[-1]\n",
    "    a_hat_t = a_hat_trace[-1]\n",
    "    y_t = y_trace[-1]\n",
    "    w_t = np.random.normal(scale=sigma)\n",
    "    x_new = (a-a_hat_t)*x_t + w_t + u\n",
    "    y_new = y_t + x_t**2\n",
    "    a_hat_new = (a_hat_t*y_t + a*x_t**2 + w_t*x_t)/(y_t+x_t**2)\n",
    "    x_trace.append(x_new)\n",
    "    y_trace.append(y_new)\n",
    "    a_hat_trace.append(a_hat_new)\n",
    "    w_trace.append(w_t)\n",
    "    \n",
    "for i in range(T):\n",
    "    update_state()"
   ]
  },
  {
   "cell_type": "code",
   "execution_count": 58,
   "metadata": {},
   "outputs": [
    {
     "name": "stdout",
     "output_type": "stream",
     "text": [
      "Last a_hat estimate -20.050905229992477\n"
     ]
    },
    {
     "data": {
      "image/png": "[encoded data removed]",
      "text/plain": [
       "<Figure size 432x288 with 1 Axes>"
      ]
     },
     "metadata": {
      "needs_background": "light"
     },
     "output_type": "display_data"
    },
    {
     "data": {
      "image/png": "[encoded data removed]",
      "text/plain": [
       "<Figure size 432x288 with 1 Axes>"
      ]
     },
     "metadata": {
      "needs_background": "light"
     },
     "output_type": "display_data"
    }
   ],
   "source": [
    "plt.stem(x_trace)\n",
    "plt.title('state trace')\n",
    "\n",
    "plt.figure()\n",
    "plt.stem(a_hat_trace)\n",
    "plt.title('A_hat_trace')\n",
    "print('Last a_hat estimate', a_hat_trace[-1])"
   ]
  },
  {
   "cell_type": "code",
   "execution_count": 51,
   "metadata": {},
   "outputs": [
    {
     "name": "stdout",
     "output_type": "stream",
     "text": [
      "0\n",
      "-21.64586043326864\n",
      "-20.072910881066456\n",
      "-20.00897746232167\n",
      "-20.010087517103624\n",
      "-20.01000397252794\n",
      "-20.00870488227175\n",
      "-20.00947994024223\n",
      "-20.009761012152257\n",
      "-20.009734889017402\n",
      "-20.00848352768893\n",
      "-20.012141298606476\n",
      "-20.010935037066133\n",
      "-20.011195662378142\n",
      "-20.008965945547846\n",
      "-20.011466366013167\n",
      "-20.01167520355832\n",
      "-20.00989388383795\n",
      "-20.008555155796383\n",
      "-20.007794133306934\n",
      "-20.00782274626742\n",
      "-20.0077206067852\n",
      "-20.007729218502746\n",
      "-20.0081944454142\n",
      "-20.007960333082135\n",
      "-20.01032334847858\n",
      "-20.01022424104049\n",
      "-20.009361302156034\n",
      "-20.00977994431228\n",
      "-20.01027104221529\n",
      "-20.010279282302935\n",
      "-20.01057873937486\n",
      "-20.010478577763262\n",
      "-20.01068691679812\n",
      "-20.010865119965548\n",
      "-20.011321501574095\n",
      "-20.011284109886486\n",
      "-20.011181562049373\n",
      "-20.01068327303783\n",
      "-20.011355817378213\n",
      "-20.011512534041422\n",
      "-20.01130707510829\n",
      "-20.010803921813032\n",
      "-20.01115740926474\n",
      "-20.01134375497762\n",
      "-20.011465594056812\n",
      "-20.011679507256353\n",
      "-20.012104054520517\n",
      "-20.01205513163683\n",
      "-20.01171287165511\n",
      "-20.01143179544722\n",
      "-20.01143544330465\n",
      "-20.011650087713615\n",
      "-20.01179947338328\n",
      "-20.012309110495067\n",
      "-20.0122600985051\n",
      "-20.012272420172984\n",
      "-20.011354899446925\n",
      "-20.01228912783102\n",
      "-20.012287970251418\n",
      "-20.012594180235727\n",
      "-20.012384731934876\n",
      "-20.011838135810518\n",
      "-20.012482242860433\n",
      "-20.012802220638587\n",
      "-20.01272279387727\n",
      "-20.01320953283576\n",
      "-20.013214083297246\n",
      "-20.012395369177774\n",
      "-20.012628475396347\n",
      "-20.01235478717167\n",
      "-20.011260508360944\n",
      "-20.010931804885644\n",
      "-20.011436027179652\n",
      "-20.011415077651826\n",
      "-20.011160397992224\n",
      "-20.011226136937864\n",
      "-20.011107380695776\n",
      "-20.012215645082517\n",
      "-20.011966274061955\n",
      "-20.012180895863153\n",
      "-20.01164817165029\n",
      "-20.011772360367374\n",
      "-20.01168614315023\n",
      "-20.010891937851216\n",
      "-20.010079235502115\n",
      "-20.01055499582952\n",
      "-20.00997915511098\n",
      "-20.01225734028252\n",
      "-20.01198766566368\n",
      "-20.012079720961022\n",
      "-20.01246418254441\n",
      "-20.012327048401527\n",
      "-20.01171415170276\n",
      "-20.01156205532177\n",
      "-20.011271188527427\n",
      "-20.011865380788308\n",
      "-20.011747170249492\n",
      "-20.0116200048996\n",
      "-20.01146735705514\n",
      "-20.01101718033897\n"
     ]
    }
   ],
   "source": [
    "for a in a_hat_trace:\n",
    "    print(a)"
   ]
  },
  {
   "cell_type": "code",
   "execution_count": null,
   "metadata": {},
   "outputs": [],
   "source": []
  }
 ],
 "metadata": {
  "kernelspec": {
   "display_name": "Python 3",
   "language": "python",
   "name": "python3"
  },
  "language_info": {
   "codemirror_mode": {
    "name": "ipython",
    "version": 3
   },
   "file_extension": ".py",
   "mimetype": "text/x-python",
   "name": "python",
   "nbconvert_exporter": "python",
   "pygments_lexer": "ipython3",
   "version": "3.7.4"
  }
 },
 "nbformat": 4,
 "nbformat_minor": 2
}
